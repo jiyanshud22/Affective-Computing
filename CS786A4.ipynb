{
  "nbformat": 4,
  "nbformat_minor": 0,
  "metadata": {
    "colab": {
      "provenance": [],
      "include_colab_link": true
    },
    "kernelspec": {
      "name": "python3",
      "display_name": "Python 3"
    },
    "language_info": {
      "name": "python"
    }
  },
  "cells": [
    {
      "cell_type": "markdown",
      "metadata": {
        "id": "view-in-github",
        "colab_type": "text"
      },
      "source": [
        "<a href=\"https://colab.research.google.com/github/jiyanshud22/Affective-Computing/blob/main/CS786A4.ipynb\" target=\"_parent\"><img src=\"https://colab.research.google.com/assets/colab-badge.svg\" alt=\"Open In Colab\"/></a>"
      ]
    },
    {
      "cell_type": "markdown",
      "source": [
        "# **CS786** Assignment 4\n",
        "---\n",
        "\n",
        "\n"
      ],
      "metadata": {
        "id": "XAs29zlDZdtn"
      }
    },
    {
      "cell_type": "markdown",
      "source": [
        "### *Jiyanshu* *Dhaka* *220481*"
      ],
      "metadata": {
        "id": "GQ70X0U4Zdgu"
      }
    },
    {
      "cell_type": "markdown",
      "source": [
        "## Dataset and Instructions\n",
        "I am giving you a dataset that contains 70 judgments a subject has made about the size of hypothetical people based on\n",
        "their weight (in kilos) and height (in inches). The subject has categorized people into three categories - small, average, and\n",
        "large.\n",
        "The dataset X.csv contains the 70 actual judgments made by the subject as a 70 × 3 matrix:\n",
        "• The first column contains weights.\n",
        "• The second column contains heights.\n",
        "• The third column contains the category label assigned by the subject (small = 1, average = 2, large = 3).\n",
        "I am also giving you a test set y.csv of 10 more weight-height combinations as a 10 × 2 matrix (with the same column\n",
        "interpretations). I want you to tell me what a generalized context model (GCM) would predict this subject’s category labels\n",
        "to be, assuming:\n",
        "1. The subject is polite and is far more likely to call someone average than large.\n",
        "2. The subject is more likely to use weight than height to make category judgments about size.\n",
        "\n"
      ],
      "metadata": {
        "id": "mlkMX5Xatt92"
      }
    },
    {
      "cell_type": "markdown",
      "source": [],
      "metadata": {
        "id": "mHXg-6dBZed7"
      }
    },
    {
      "cell_type": "code",
      "source": [],
      "metadata": {
        "id": "pYkIFvgOkt3y",
        "collapsed": true
      },
      "execution_count": null,
      "outputs": []
    },
    {
      "cell_type": "markdown",
      "source": [
        "\n",
        "# Questions\n",
        "# Q1. (30 points)\n",
        "Implement a Generalized Context Model (GCM) encoding these assumptions and provide quantitative predictions for\n",
        "the test set. Submit both the code and category responses for the data points.\n"
      ],
      "metadata": {
        "id": "64m9-_oISACB"
      }
    },
    {
      "cell_type": "markdown",
      "source": [],
      "metadata": {
        "id": "VYJTSXMMdq6u"
      }
    },
    {
      "cell_type": "code",
      "source": [],
      "metadata": {
        "id": "8OK9Ysq9kt0b"
      },
      "execution_count": null,
      "outputs": []
    },
    {
      "cell_type": "markdown",
      "source": [],
      "metadata": {
        "id": "JQsbbywkcmoo"
      }
    },
    {
      "cell_type": "markdown",
      "source": [],
      "metadata": {
        "id": "s7uD94RVNO_q"
      }
    },
    {
      "cell_type": "code",
      "source": [],
      "metadata": {
        "id": "NDk1SbYbdN_U",
        "collapsed": true
      },
      "execution_count": null,
      "outputs": []
    },
    {
      "cell_type": "markdown",
      "source": [],
      "metadata": {
        "id": "nPRT4wH0cTXq"
      }
    },
    {
      "cell_type": "markdown",
      "source": [],
      "metadata": {
        "id": "ZiP6iAGlbEAD"
      }
    },
    {
      "cell_type": "markdown",
      "source": [],
      "metadata": {
        "id": "iCUVnhQ_b9Cc"
      }
    },
    {
      "cell_type": "markdown",
      "source": [],
      "metadata": {
        "id": "Z_yIPDsVcE-H"
      }
    },
    {
      "cell_type": "markdown",
      "source": [],
      "metadata": {
        "id": "jrGT19xa8lYh"
      }
    },
    {
      "cell_type": "code",
      "source": [],
      "metadata": {
        "id": "KMsOrsKH8kcW"
      },
      "execution_count": null,
      "outputs": []
    },
    {
      "cell_type": "markdown",
      "source": [],
      "metadata": {
        "id": "Wae6DpkS0kV3"
      }
    },
    {
      "cell_type": "markdown",
      "source": [],
      "metadata": {
        "id": "FBu7O4db01yP"
      }
    },
    {
      "cell_type": "markdown",
      "source": [],
      "metadata": {
        "id": "XmO6Nr9w0cS1"
      }
    },
    {
      "cell_type": "markdown",
      "source": [],
      "metadata": {
        "id": "ClGhrxaa4__w"
      }
    },
    {
      "cell_type": "markdown",
      "source": [],
      "metadata": {
        "id": "_UZKSFXz40mp"
      }
    },
    {
      "cell_type": "markdown",
      "source": [],
      "metadata": {
        "id": "adQ1lbn09fjK"
      }
    },
    {
      "cell_type": "markdown",
      "source": [],
      "metadata": {
        "id": "ghZFeoHEBc2T"
      }
    },
    {
      "cell_type": "markdown",
      "source": [
        ".\n",
        "\n",
        "\n",
        "\n",
        "\n",
        ".\n",
        "\n",
        "\n",
        "\n",
        "\n",
        "\n",
        "\n",
        "\n",
        "\n",
        "\n",
        "\n",
        "\n",
        "\n",
        "\n",
        "\n",
        "\n",
        "\n",
        "\n",
        "\n",
        "\n",
        ".\n",
        "\n",
        "\n",
        "\n",
        "\n",
        "\n",
        "\n",
        "\n",
        "\n",
        "\n",
        "\n",
        "\n",
        "\n",
        "\n",
        "\n",
        "\n",
        "\n",
        "\n",
        "\n",
        "\n",
        "\n",
        "\n",
        "\n",
        "\n",
        "\n",
        "\n",
        "\n",
        ".\n",
        "\n",
        "\n",
        "\n",
        "\n",
        "\n",
        "\n",
        "\n",
        "\n",
        "\n",
        "\n",
        "\n",
        "\n",
        "\n",
        "\n",
        "\n",
        "\n",
        "\n",
        "\n",
        "\n",
        "\n",
        "\n",
        "\n",
        "\n",
        "\n",
        "\n",
        "\n",
        "\n",
        "\n",
        "\n",
        "\n",
        ".\n",
        "\n",
        "\n",
        "\n",
        "\n",
        "\n",
        "\n",
        "\n",
        "\n",
        "\n",
        "\n",
        "\n",
        "\n",
        "\n",
        "\n",
        "\n",
        "\n",
        "\n",
        "\n",
        "\n",
        ".\n",
        "\n",
        "\n",
        "\n",
        "\n",
        ".\n",
        "\n",
        "\n",
        "\n",
        "\n",
        ".\n",
        "\n",
        "\n",
        "\n",
        "\n",
        "\n",
        "\n",
        "\n",
        "\n",
        "\n",
        "\n",
        "\n",
        "\n",
        "\n",
        "\n",
        "\n",
        "\n",
        "\n",
        "\n",
        "\n",
        ".\n",
        "\n",
        "\n",
        "\n",
        "\n",
        "\n",
        "\n",
        "\n",
        "\n",
        "\n",
        "\n",
        "\n",
        "\n",
        "\n",
        "\n",
        "\n",
        "\n",
        "\n",
        "\n",
        "\n",
        "\n",
        "\n",
        "\n",
        "\n",
        "\n",
        "\n",
        "\n",
        ".\n",
        "\n",
        "\n",
        "\n",
        "\n",
        "\n",
        "\n",
        "\n",
        "\n",
        "\n",
        "\n",
        "\n",
        "\n",
        "\n",
        "\n",
        "\n",
        "\n",
        "\n",
        "\n",
        "\n",
        "\n",
        "\n",
        "\n",
        "\n",
        "\n",
        "\n",
        "\n",
        "\n",
        "\n",
        "\n",
        "\n",
        ".\n",
        "\n",
        "\n",
        "\n",
        "\n",
        "\n",
        "\n",
        "\n",
        "\n",
        "\n",
        "\n",
        "\n",
        "\n",
        "\n",
        "\n",
        "\n",
        "\n",
        "\n",
        "\n",
        "\n",
        "."
      ],
      "metadata": {
        "id": "eyTIJgIZBio9"
      }
    },
    {
      "cell_type": "markdown",
      "source": [
        "# Q2. (40 points)\n",
        "I am also sharing with you John McDonnell’s Python implementation of Anderson’s Rational Model of Categorization\n",
        "(rational.py). Modify the code to obtain category predictions for the data I have shared with you.\n"
      ],
      "metadata": {
        "id": "ch9gzhvSY1XA"
      }
    },
    {
      "cell_type": "code",
      "source": [],
      "metadata": {
        "id": "WaSveG8fY7u6"
      },
      "execution_count": null,
      "outputs": []
    },
    {
      "cell_type": "code",
      "source": [],
      "metadata": {
        "id": "mbe9BtSfY7rc"
      },
      "execution_count": null,
      "outputs": []
    },
    {
      "cell_type": "code",
      "source": [],
      "metadata": {
        "id": "HIw73CunY7pC"
      },
      "execution_count": null,
      "outputs": []
    },
    {
      "cell_type": "code",
      "source": [],
      "metadata": {
        "id": "IVjB2M3OY7mf"
      },
      "execution_count": null,
      "outputs": []
    },
    {
      "cell_type": "code",
      "source": [],
      "metadata": {
        "id": "3eZkoS8QY7j3"
      },
      "execution_count": null,
      "outputs": []
    },
    {
      "cell_type": "code",
      "source": [],
      "metadata": {
        "id": "BXSvVIjsY7hc"
      },
      "execution_count": null,
      "outputs": []
    },
    {
      "cell_type": "markdown",
      "source": [],
      "metadata": {
        "id": "3I0VfX0JY4SE"
      }
    },
    {
      "cell_type": "markdown",
      "source": [],
      "metadata": {
        "id": "Iipo8ibUY4Ow"
      }
    },
    {
      "cell_type": "markdown",
      "source": [],
      "metadata": {
        "id": "BHsytZASY4MK"
      }
    },
    {
      "cell_type": "markdown",
      "source": [],
      "metadata": {
        "id": "HmiBVtHFY4Jv"
      }
    },
    {
      "cell_type": "markdown",
      "source": [],
      "metadata": {
        "id": "8YCy7lCSY4HO"
      }
    },
    {
      "cell_type": "markdown",
      "source": [],
      "metadata": {
        "id": "3D634vW-Y4Es"
      }
    },
    {
      "cell_type": "markdown",
      "source": [],
      "metadata": {
        "id": "MItHyflmY4CF"
      }
    },
    {
      "cell_type": "markdown",
      "source": [
        "# Q3. (30 points)\n",
        "For both the GCM and Rational Model of Categorization (RMC), show empirically using the dataset I’ve shared that\n",
        "both models assume exchangeability of data, i.e., the order in which data enters the model does not affect the category\n",
        "labels of the model for any given subset of data."
      ],
      "metadata": {
        "id": "hyqTl8SRY3Fj"
      }
    },
    {
      "cell_type": "code",
      "source": [],
      "metadata": {
        "id": "5EMJ811AY6_e"
      },
      "execution_count": null,
      "outputs": []
    },
    {
      "cell_type": "code",
      "source": [],
      "metadata": {
        "id": "0nCABaQuY68I"
      },
      "execution_count": null,
      "outputs": []
    },
    {
      "cell_type": "code",
      "source": [],
      "metadata": {
        "id": "WziY8CtEY65d"
      },
      "execution_count": null,
      "outputs": []
    },
    {
      "cell_type": "code",
      "source": [],
      "metadata": {
        "id": "RLkGR7CsY63D"
      },
      "execution_count": null,
      "outputs": []
    },
    {
      "cell_type": "code",
      "source": [],
      "metadata": {
        "id": "SLzZgnbEY60r"
      },
      "execution_count": null,
      "outputs": []
    }
  ]
}