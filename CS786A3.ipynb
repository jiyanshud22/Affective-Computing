{
  "nbformat": 4,
  "nbformat_minor": 0,
  "metadata": {
    "colab": {
      "provenance": [],
      "authorship_tag": "ABX9TyPlenpXdKW2AbbHIB2dnuFz",
      "include_colab_link": true
    },
    "kernelspec": {
      "name": "python3",
      "display_name": "Python 3"
    },
    "language_info": {
      "name": "python"
    }
  },
  "cells": [
    {
      "cell_type": "markdown",
      "metadata": {
        "id": "view-in-github",
        "colab_type": "text"
      },
      "source": [
        "<a href=\"https://colab.research.google.com/github/jiyanshud22/Affective-Computing/blob/main/CS786A3.ipynb\" target=\"_parent\"><img src=\"https://colab.research.google.com/assets/colab-badge.svg\" alt=\"Open In Colab\"/></a>"
      ]
    },
    {
      "cell_type": "markdown",
      "source": [
        "# **CS786** Assignment 3\n",
        "---\n",
        "\n",
        "\n"
      ],
      "metadata": {
        "id": "XAs29zlDZdtn"
      }
    },
    {
      "cell_type": "markdown",
      "source": [
        "### *Jiyanshu* *Dhaka* *220481*"
      ],
      "metadata": {
        "id": "GQ70X0U4Zdgu"
      }
    },
    {
      "cell_type": "markdown",
      "source": [
        "# Q1. The paper uses inception v3 networks, but those are outdated. Can you reproduce the Study\n",
        "# Design steps in the paper for inception v3 on inception v4 networks? [20 points]"
      ],
      "metadata": {
        "id": "4IpUplWlZdZK"
      }
    },
    {
      "cell_type": "code",
      "execution_count": null,
      "metadata": {
        "id": "DMx9cLuiZaFi"
      },
      "outputs": [],
      "source": []
    },
    {
      "cell_type": "code",
      "source": [],
      "metadata": {
        "id": "_qO0NBdKdNND"
      },
      "execution_count": null,
      "outputs": []
    },
    {
      "cell_type": "code",
      "source": [],
      "metadata": {
        "id": "bhlSqg2zdNJo"
      },
      "execution_count": null,
      "outputs": []
    },
    {
      "cell_type": "code",
      "source": [],
      "metadata": {
        "id": "Lip1wLuJdNHj"
      },
      "execution_count": null,
      "outputs": []
    },
    {
      "cell_type": "markdown",
      "source": [
        "# Q2. The paper studies whether CNNs can learn the concept of symmetry. Reproduce their results for global symmetry on synthetic data; you’re free to use their data and their code. [20 points]"
      ],
      "metadata": {
        "id": "PabNNvKzZcse"
      }
    },
    {
      "cell_type": "code",
      "source": [],
      "metadata": {
        "id": "0uVPndrHC8tL"
      },
      "execution_count": null,
      "outputs": []
    },
    {
      "cell_type": "code",
      "source": [],
      "metadata": {
        "id": "tP74qpQiC8pn"
      },
      "execution_count": null,
      "outputs": []
    },
    {
      "cell_type": "code",
      "source": [],
      "metadata": {
        "id": "zGhDHXSDC8nM"
      },
      "execution_count": null,
      "outputs": []
    },
    {
      "cell_type": "code",
      "source": [],
      "metadata": {
        "id": "2srMJZ08C8kz"
      },
      "execution_count": null,
      "outputs": []
    },
    {
      "cell_type": "code",
      "source": [],
      "metadata": {
        "id": "grg0Ip77C8hq"
      },
      "execution_count": null,
      "outputs": []
    },
    {
      "cell_type": "code",
      "source": [],
      "metadata": {
        "id": "E3c0jT9lC8fM"
      },
      "execution_count": null,
      "outputs": []
    },
    {
      "cell_type": "code",
      "source": [],
      "metadata": {
        "id": "MQZ1uc9kC8b2"
      },
      "execution_count": null,
      "outputs": []
    },
    {
      "cell_type": "markdown",
      "source": [
        "# Q3. We discussed in class that there are a number of other gestalt principles beyond symmetry. Here is a fairly sensible list of five such principles. Test for one such principle – the principle of proximity. You basically need to figure out how to generate macro-objects that are made up of multiple microobjects and find a way for the CNN to classify the macro-objects without being confused by the presence of the micro-objects. For this question, I will grade on effort, not results."
      ],
      "metadata": {
        "id": "UBKM74n4C5OV"
      }
    },
    {
      "cell_type": "markdown",
      "source": [
        "# For example, a CNN trained to recognize the letter ‘I’ should interpret the display on the right in the figure above as three ‘I’s, generalizing across the empty space between the constituent circles (micro-objects) that make up each I (macro-object). I would design training sets that densely pack micro-objects to make macro-objects that are given class labels. I would also ensure that the microobjects don’t look anything like the macro-objects. Once the model is successfully detecting the macro-objects for this training set, I would take this trained model and retrain on training data with relatively looser packed micro-objects and repeat the whole things 3-4 rounds, increasing the gap between the micro-objects in each round until you get human-like proximity generalization behavior.[30 points]"
      ],
      "metadata": {
        "id": "IasBIYKuC573"
      }
    },
    {
      "cell_type": "code",
      "source": [],
      "metadata": {
        "id": "fE6hJRm7DbpL"
      },
      "execution_count": null,
      "outputs": []
    },
    {
      "cell_type": "code",
      "source": [],
      "metadata": {
        "id": "VqmZofs2Dbly"
      },
      "execution_count": null,
      "outputs": []
    },
    {
      "cell_type": "code",
      "source": [],
      "metadata": {
        "id": "vfpzbGZrDbjr"
      },
      "execution_count": null,
      "outputs": []
    },
    {
      "cell_type": "code",
      "source": [],
      "metadata": {
        "id": "iYlFt_65DbhN"
      },
      "execution_count": null,
      "outputs": []
    },
    {
      "cell_type": "code",
      "source": [],
      "metadata": {
        "id": "IYGeJF_vDbel"
      },
      "execution_count": null,
      "outputs": []
    },
    {
      "cell_type": "code",
      "source": [],
      "metadata": {
        "id": "LERmcHoRDbcI"
      },
      "execution_count": null,
      "outputs": []
    },
    {
      "cell_type": "code",
      "source": [],
      "metadata": {
        "id": "qyNdZ7sWDbZg"
      },
      "execution_count": null,
      "outputs": []
    },
    {
      "cell_type": "markdown",
      "source": [
        "# Q4. Test one other gestalt principle of your choice. For this one, you have to figure out the training and testing strategies for yourselves. [30 points]"
      ],
      "metadata": {
        "id": "8EwIv_A4C5_V"
      }
    },
    {
      "cell_type": "code",
      "source": [],
      "metadata": {
        "id": "-62tBmBXDi2H"
      },
      "execution_count": null,
      "outputs": []
    },
    {
      "cell_type": "code",
      "source": [],
      "metadata": {
        "id": "t_88qM5DDiyv"
      },
      "execution_count": null,
      "outputs": []
    },
    {
      "cell_type": "code",
      "source": [],
      "metadata": {
        "id": "XsLDeu_rDiwQ"
      },
      "execution_count": null,
      "outputs": []
    },
    {
      "cell_type": "code",
      "source": [],
      "metadata": {
        "id": "Gb7MG-rIDitl"
      },
      "execution_count": null,
      "outputs": []
    },
    {
      "cell_type": "code",
      "source": [],
      "metadata": {
        "id": "WzcOC1JvDirm"
      },
      "execution_count": null,
      "outputs": []
    },
    {
      "cell_type": "code",
      "source": [],
      "metadata": {
        "id": "nrlBo5WYDipK"
      },
      "execution_count": null,
      "outputs": []
    },
    {
      "cell_type": "code",
      "source": [],
      "metadata": {
        "id": "5JVSrK6iDimi"
      },
      "execution_count": null,
      "outputs": []
    },
    {
      "cell_type": "code",
      "source": [],
      "metadata": {
        "id": "eaDrwC2nDid4"
      },
      "execution_count": null,
      "outputs": []
    },
    {
      "cell_type": "markdown",
      "source": [],
      "metadata": {
        "id": "G3BPba3ZC6GR"
      }
    }
  ]
}